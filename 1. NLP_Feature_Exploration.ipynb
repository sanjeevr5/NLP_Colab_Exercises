{
  "nbformat": 4,
  "nbformat_minor": 0,
  "metadata": {
    "colab": {
      "name": "NLP_Feature_Exploration.ipynb",
      "provenance": [],
      "collapsed_sections": [],
      "authorship_tag": "ABX9TyP1I6SiIR55dAbFEYXH5yHV",
      "include_colab_link": true
    },
    "kernelspec": {
      "name": "python3",
      "display_name": "Python 3"
    }
  },
  "cells": [
    {
      "cell_type": "markdown",
      "metadata": {
        "id": "view-in-github",
        "colab_type": "text"
      },
      "source": [
        "<a href=\"https://colab.research.google.com/github/sanjeevr5/NLP_Colab_Exercises/blob/main/1.%20NLP_Feature_Exploration.ipynb\" target=\"_parent\"><img src=\"https://colab.research.google.com/assets/colab-badge.svg\" alt=\"Open In Colab\"/></a>"
      ]
    },
    {
      "cell_type": "markdown",
      "metadata": {
        "id": "Y_WbeK67RQto"
      },
      "source": [
        "# 1. Feature Engineering Techniques For NLP (English)\n",
        "<pre>\n",
        "<b> Data Used : </b> SST-5 Fine grained movie sentimental analysis by Stanford\n",
        "<b> 1. Strongly Negative 2. Weakly Negative 3. Neutral 4. Weakly Positive 5. Strongly Positive\n",
        "<b> Special thanks to https://github.com/prrao87/fine-grained-sentiment/tree/master/data/sst for the processed data </b>\n",
        "<b> Notebook authored by : Sanjeev Ram </b>\n",
        " We shall try to implement different techniques of data exploration from the train data alone\n",
        " <i>Orginal Dataset : https://nlp.stanford.edu/sentiment/</i>\n",
        " <b> This notebook will be updated as I find interesting text feature engineering techniques. Feature selection techniques are implemented in a separate notebook</b>\n",
        "</pre>\n"
      ]
    },
    {
      "cell_type": "markdown",
      "metadata": {
        "id": "Olqa7jgcq5mf"
      },
      "source": [
        "## 1.1 Dataset Loading"
      ]
    },
    {
      "cell_type": "code",
      "metadata": {
        "id": "OGXx036cjQ5U",
        "outputId": "d0b89400-6e38-4b92-b3bc-e09b5c4dc313",
        "colab": {
          "base_uri": "https://localhost:8080/",
          "height": 51
        }
      },
      "source": [
        "# Since the datasize is small we shall use list for quicker accessibility\n",
        "import re\n",
        "import pandas as pd\n",
        "import spacy\n",
        "import nltk\n",
        "nltk.download('words')\n",
        "from nltk.corpus import words\n",
        "setofwords = set(words.words())\n",
        "\n",
        "nlp = spacy.load('en_core_web_sm')"
      ],
      "execution_count": 1,
      "outputs": [
        {
          "output_type": "stream",
          "text": [
            "[nltk_data] Downloading package words to /root/nltk_data...\n",
            "[nltk_data]   Unzipping corpora/words.zip.\n"
          ],
          "name": "stdout"
        }
      ]
    },
    {
      "cell_type": "code",
      "metadata": {
        "id": "MZwni4pOEbxm"
      },
      "source": [
        "def get_sentences(path):\n",
        "  data = []\n",
        "  with open(path, 'r') as f:\n",
        "    for line in f.readlines():\n",
        "      data.append(line.split('\\t'))\n",
        "  return pd.DataFrame(data, columns = ['Label', 'Review'])\n",
        "train_sentences = get_sentences('/content/train.txt')"
      ],
      "execution_count": 3,
      "outputs": []
    },
    {
      "cell_type": "markdown",
      "metadata": {
        "id": "e8X_oFFvsEo-"
      },
      "source": [
        "## 1.2 Data Exploration"
      ]
    },
    {
      "cell_type": "code",
      "metadata": {
        "id": "TUW7OrnRsmbr",
        "outputId": "a5145b63-80e0-4d9f-fd1d-f14e8d9ebe8c",
        "colab": {
          "base_uri": "https://localhost:8080/",
          "height": 204
        }
      },
      "source": [
        "train_sentences.head()"
      ],
      "execution_count": 4,
      "outputs": [
        {
          "output_type": "execute_result",
          "data": {
            "text/html": [
              "<div>\n",
              "<style scoped>\n",
              "    .dataframe tbody tr th:only-of-type {\n",
              "        vertical-align: middle;\n",
              "    }\n",
              "\n",
              "    .dataframe tbody tr th {\n",
              "        vertical-align: top;\n",
              "    }\n",
              "\n",
              "    .dataframe thead th {\n",
              "        text-align: right;\n",
              "    }\n",
              "</style>\n",
              "<table border=\"1\" class=\"dataframe\">\n",
              "  <thead>\n",
              "    <tr style=\"text-align: right;\">\n",
              "      <th></th>\n",
              "      <th>Label</th>\n",
              "      <th>Review</th>\n",
              "    </tr>\n",
              "  </thead>\n",
              "  <tbody>\n",
              "    <tr>\n",
              "      <th>0</th>\n",
              "      <td>__label__4</td>\n",
              "      <td>The Rock is destined to be the 21st Century 's...</td>\n",
              "    </tr>\n",
              "    <tr>\n",
              "      <th>1</th>\n",
              "      <td>__label__5</td>\n",
              "      <td>The gorgeously elaborate continuation of `` Th...</td>\n",
              "    </tr>\n",
              "    <tr>\n",
              "      <th>2</th>\n",
              "      <td>__label__4</td>\n",
              "      <td>Singer/composer Bryan Adams contributes a slew...</td>\n",
              "    </tr>\n",
              "    <tr>\n",
              "      <th>3</th>\n",
              "      <td>__label__3</td>\n",
              "      <td>You 'd think by now America would have had eno...</td>\n",
              "    </tr>\n",
              "    <tr>\n",
              "      <th>4</th>\n",
              "      <td>__label__4</td>\n",
              "      <td>Yet the act is still charming here .\\n</td>\n",
              "    </tr>\n",
              "  </tbody>\n",
              "</table>\n",
              "</div>"
            ],
            "text/plain": [
              "        Label                                             Review\n",
              "0  __label__4  The Rock is destined to be the 21st Century 's...\n",
              "1  __label__5  The gorgeously elaborate continuation of `` Th...\n",
              "2  __label__4  Singer/composer Bryan Adams contributes a slew...\n",
              "3  __label__3  You 'd think by now America would have had eno...\n",
              "4  __label__4             Yet the act is still charming here .\\n"
            ]
          },
          "metadata": {
            "tags": []
          },
          "execution_count": 4
        }
      ]
    },
    {
      "cell_type": "markdown",
      "metadata": {
        "id": "IhRQM3kFst_X"
      },
      "source": [
        "<b>1. What is the shape of the dataframe that is the number of rows and columns?</b>"
      ]
    },
    {
      "cell_type": "code",
      "metadata": {
        "id": "MX_2eD-UssaG",
        "outputId": "e224ecfa-90f3-4b2c-c210-70fa1e94f9fa",
        "colab": {
          "base_uri": "https://localhost:8080/",
          "height": 34
        }
      },
      "source": [
        "shape = train_sentences.shape\n",
        "print(f'The shape of the dataset is {shape[0]} rows and {shape[1]} columns')"
      ],
      "execution_count": 5,
      "outputs": [
        {
          "output_type": "stream",
          "text": [
            "The shape of the dataset is 8544 rows and 2 columns\n"
          ],
          "name": "stdout"
        }
      ]
    },
    {
      "cell_type": "markdown",
      "metadata": {
        "id": "gAvCW6i2tOAH"
      },
      "source": [
        "<b>2. Convert all the labels to numeric representations</b><br>\n",
        "Since machines can only interpret numbers"
      ]
    },
    {
      "cell_type": "code",
      "metadata": {
        "id": "tTzT6hIgulo_"
      },
      "source": [
        "train_sentences.Label = train_sentences.Label.map(lambda x : int(re.sub(r'[^\\d]', '', str(x)).strip()))"
      ],
      "execution_count": 6,
      "outputs": []
    },
    {
      "cell_type": "code",
      "metadata": {
        "id": "XBo_fcfIu68o",
        "outputId": "f1321fa4-5232-409f-f193-1841dc098a04",
        "colab": {
          "base_uri": "https://localhost:8080/",
          "height": 204
        }
      },
      "source": [
        "train_sentences.head()"
      ],
      "execution_count": 7,
      "outputs": [
        {
          "output_type": "execute_result",
          "data": {
            "text/html": [
              "<div>\n",
              "<style scoped>\n",
              "    .dataframe tbody tr th:only-of-type {\n",
              "        vertical-align: middle;\n",
              "    }\n",
              "\n",
              "    .dataframe tbody tr th {\n",
              "        vertical-align: top;\n",
              "    }\n",
              "\n",
              "    .dataframe thead th {\n",
              "        text-align: right;\n",
              "    }\n",
              "</style>\n",
              "<table border=\"1\" class=\"dataframe\">\n",
              "  <thead>\n",
              "    <tr style=\"text-align: right;\">\n",
              "      <th></th>\n",
              "      <th>Label</th>\n",
              "      <th>Review</th>\n",
              "    </tr>\n",
              "  </thead>\n",
              "  <tbody>\n",
              "    <tr>\n",
              "      <th>0</th>\n",
              "      <td>4</td>\n",
              "      <td>The Rock is destined to be the 21st Century 's...</td>\n",
              "    </tr>\n",
              "    <tr>\n",
              "      <th>1</th>\n",
              "      <td>5</td>\n",
              "      <td>The gorgeously elaborate continuation of `` Th...</td>\n",
              "    </tr>\n",
              "    <tr>\n",
              "      <th>2</th>\n",
              "      <td>4</td>\n",
              "      <td>Singer/composer Bryan Adams contributes a slew...</td>\n",
              "    </tr>\n",
              "    <tr>\n",
              "      <th>3</th>\n",
              "      <td>3</td>\n",
              "      <td>You 'd think by now America would have had eno...</td>\n",
              "    </tr>\n",
              "    <tr>\n",
              "      <th>4</th>\n",
              "      <td>4</td>\n",
              "      <td>Yet the act is still charming here .\\n</td>\n",
              "    </tr>\n",
              "  </tbody>\n",
              "</table>\n",
              "</div>"
            ],
            "text/plain": [
              "   Label                                             Review\n",
              "0      4  The Rock is destined to be the 21st Century 's...\n",
              "1      5  The gorgeously elaborate continuation of `` Th...\n",
              "2      4  Singer/composer Bryan Adams contributes a slew...\n",
              "3      3  You 'd think by now America would have had eno...\n",
              "4      4             Yet the act is still charming here .\\n"
            ]
          },
          "metadata": {
            "tags": []
          },
          "execution_count": 7
        }
      ]
    },
    {
      "cell_type": "markdown",
      "metadata": {
        "id": "sc7zYA_ZvXO2"
      },
      "source": [
        "<b>3. Do we have null values in the dataset? </b><br>"
      ]
    },
    {
      "cell_type": "code",
      "metadata": {
        "id": "r9tqFefJvWtl",
        "outputId": "2369d6ca-2e0a-4a20-f6b7-eeebc0355ae9",
        "colab": {
          "base_uri": "https://localhost:8080/",
          "height": 68
        }
      },
      "source": [
        "train_sentences.isnull().sum(axis = 0)"
      ],
      "execution_count": 8,
      "outputs": [
        {
          "output_type": "execute_result",
          "data": {
            "text/plain": [
              "Label     0\n",
              "Review    0\n",
              "dtype: int64"
            ]
          },
          "metadata": {
            "tags": []
          },
          "execution_count": 8
        }
      ]
    },
    {
      "cell_type": "markdown",
      "metadata": {
        "id": "s6SJZNS7vpYu"
      },
      "source": [
        "The data does not have any null values"
      ]
    },
    {
      "cell_type": "markdown",
      "metadata": {
        "id": "Fwv6Kj69vuft"
      },
      "source": [
        "<b>4. Do we have a balanced dataset? </b><br>"
      ]
    },
    {
      "cell_type": "code",
      "metadata": {
        "id": "6HqqtmQOv1i5",
        "outputId": "8b206e42-5364-4415-8445-7f7bd797cc30",
        "colab": {
          "base_uri": "https://localhost:8080/",
          "height": 279
        }
      },
      "source": [
        "train_sentences.Label.value_counts().plot(kind = 'bar')"
      ],
      "execution_count": 9,
      "outputs": [
        {
          "output_type": "execute_result",
          "data": {
            "text/plain": [
              "<matplotlib.axes._subplots.AxesSubplot at 0x7f96a9a6a9e8>"
            ]
          },
          "metadata": {
            "tags": []
          },
          "execution_count": 9
        },
        {
          "output_type": "display_data",
          "data": {
            "image/png": "[encoded data removed]",
            "text/plain": [
              "<Figure size 432x288 with 1 Axes>"
            ]
          },
          "metadata": {
            "tags": [],
            "needs_background": "light"
          }
        }
      ]
    },
    {
      "cell_type": "markdown",
      "metadata": {
        "id": "ecdQJwY1yQRC"
      },
      "source": [
        "- We dont have a balanced dataset \n",
        "- Weakly positive and weakly negative are dominating while strong negative being the lowest"
      ]
    },
    {
      "cell_type": "markdown",
      "metadata": {
        "id": "PtX1YTRHye-Q"
      },
      "source": [
        "## 1.3 Feature Engineering"
      ]
    },
    {
      "cell_type": "markdown",
      "metadata": {
        "id": "NswOi-Vfyjql"
      },
      "source": [
        "<b>1. Do we have special characters/ Punctuation marks in the reviews?</b>\n",
        "Yes, we have some punctuation marks and special characters are due to the encoding"
      ]
    },
    {
      "cell_type": "markdown",
      "metadata": {
        "id": "oZOLqnRXzZe9"
      },
      "source": [
        "<b>2. Hypothesis  : Long reviews are generally good reviews </b> (We can use this as a feature engineering technique)\n",
        "- Split using white space \n",
        "- Assuming that data is clean"
      ]
    },
    {
      "cell_type": "code",
      "metadata": {
        "id": "iHApsMgnznRA",
        "outputId": "bbb7bc23-d950-43a9-ee46-17ac8cf5885f",
        "colab": {
          "base_uri": "https://localhost:8080/",
          "height": 293
        }
      },
      "source": [
        "train_sentences['Review_Length'] = train_sentences.Review.map(lambda r: len(r.split()))\n",
        "train_sentences.groupby('Label')['Review_Length'].median().plot(kind = 'bar')"
      ],
      "execution_count": 10,
      "outputs": [
        {
          "output_type": "execute_result",
          "data": {
            "text/plain": [
              "<matplotlib.axes._subplots.AxesSubplot at 0x7f96a9a42470>"
            ]
          },
          "metadata": {
            "tags": []
          },
          "execution_count": 10
        },
        {
          "output_type": "display_data",
          "data": {
            "image/png": "[encoded data removed]",
            "text/plain": [
              "<Figure size 432x288 with 1 Axes>"
            ]
          },
          "metadata": {
            "tags": [],
            "needs_background": "light"
          }
        }
      ]
    },
    {
      "cell_type": "markdown",
      "metadata": {
        "id": "TYyYv1fQ1m_U"
      },
      "source": [
        "- All reviews almost have the same length"
      ]
    },
    {
      "cell_type": "markdown",
      "metadata": {
        "id": "f4t6AkVI2LVJ"
      },
      "source": [
        "<b>3. Under which label do we have very short reviews </b>\n",
        "- Split using white space \n",
        "- Assuming that data is clean"
      ]
    },
    {
      "cell_type": "code",
      "metadata": {
        "id": "I96m5EL92SAn",
        "outputId": "d7b3ebe5-c61e-45ec-b80d-c7b366ef68ae",
        "colab": {
          "base_uri": "https://localhost:8080/",
          "height": 293
        }
      },
      "source": [
        "train_sentences['Very_short_review'] = train_sentences.Review.map(lambda r: 1 if len(r.split()) <= 4 else 0)\n",
        "train_sentences.groupby('Label')['Very_short_review'].sum().plot(kind = 'bar')"
      ],
      "execution_count": 11,
      "outputs": [
        {
          "output_type": "execute_result",
          "data": {
            "text/plain": [
              "<matplotlib.axes._subplots.AxesSubplot at 0x7f96a91699b0>"
            ]
          },
          "metadata": {
            "tags": []
          },
          "execution_count": 11
        },
        {
          "output_type": "display_data",
          "data": {
            "image/png": "[encoded data removed]",
            "text/plain": [
              "<Figure size 432x288 with 1 Axes>"
            ]
          },
          "metadata": {
            "tags": [],
            "needs_background": "light"
          }
        }
      ]
    },
    {
      "cell_type": "markdown",
      "metadata": {
        "id": "wLopd1by3E8U"
      },
      "source": [
        "- This is not so convincing this is might reduce the discriminating power"
      ]
    },
    {
      "cell_type": "markdown",
      "metadata": {
        "id": "T7I33AEVw-Ob"
      },
      "source": [
        "<b> 4. Feature Engineering :\n",
        "<li> How many sentences are there in the review?\n",
        "<li> How many characters are there in the review without cleaning?\n",
        "<li> How many words are there in the review without cleaning? Assuming that whitepsace split is optimal\n",
        "<li> How many words are repeated in the review?\n",
        "<li> How many \"English\" words not in the NLTK dictionary are used?\n",
        "<li> How many stop words are used using \"Spacy\"?\n",
        "<li> How expressive is the review? \"Use of punctuation marks\"\n",
        "<li> How many names are mentioned in the review? Eg. Arnold\n"
      ]
    },
    {
      "cell_type": "code",
      "metadata": {
        "id": "w-LOtVj20mIh"
      },
      "source": [
        "def explore(series):\n",
        "  data = []\n",
        "  for reviews in series:\n",
        "    sent_ct, char_ct, word_ct, rep_wd_ct, fancy_wd_ct, noun_ct, stop_wd_ct, person_name_ct, punct_ct = 0, 0, 0, 0, 0, 0, 0, 0, 0\n",
        "    doc = nlp(reviews)\n",
        "    for sent in doc.sents:\n",
        "      sent = sent.text\n",
        "      sent_ct += 1\n",
        "      char_ct += len(sent)\n",
        "      word_ct += len(sent.split())\n",
        "      rep_wd_ct += len(sent.split()) - len(set(sent.split()))\n",
        "      for token in nlp(sent):\n",
        "        if token.text not in setofwords:\n",
        "          fancy_wd_ct += 1\n",
        "        if token.pos_ == 'NOUN':\n",
        "          noun_ct += 1\n",
        "        if token.is_stop:\n",
        "          stop_wd_ct += 1\n",
        "        if token.tag_ == 'PERSON':\n",
        "          person_name_ct += 1\n",
        "        if token.is_punct:\n",
        "          punct_ct += 1  \n",
        "    data.append((sent_ct, char_ct, word_ct, rep_wd_ct, fancy_wd_ct, noun_ct, stop_wd_ct, person_name_ct, punct_ct))\n",
        "  return pd.DataFrame(data, columns = ['sent_ct', 'char_ct', 'word_ct', 'rep_wd_ct', 'fancy_wd_ct', 'noun_ct', 'stop_wd_ct', 'person_name_ct', 'punct_ct'])"
      ],
      "execution_count": 12,
      "outputs": []
    },
    {
      "cell_type": "code",
      "metadata": {
        "id": "1F5QGzdU6fgy"
      },
      "source": [
        "before_processing = pd.concat([train_sentences[['Review', 'Label']], explore(train_sentences.Review)], axis = 1) "
      ],
      "execution_count": 13,
      "outputs": []
    },
    {
      "cell_type": "markdown",
      "metadata": {
        "id": "bG9jViJ5ppsM"
      },
      "source": [
        "<b> 5. Let's see the discriminative power of our features </b>"
      ]
    },
    {
      "cell_type": "markdown",
      "metadata": {
        "id": "OoIVPOHbqCIO"
      },
      "source": [
        "<b> 5.1 Sentence Count"
      ]
    },
    {
      "cell_type": "code",
      "metadata": {
        "id": "tLAZxCWLp19a",
        "outputId": "9267530c-8868-48a2-96b4-8031879ffc49",
        "colab": {
          "base_uri": "https://localhost:8080/",
          "height": 293
        }
      },
      "source": [
        "before_processing.groupby('Label')['sent_ct'].median().plot(kind = 'bar')"
      ],
      "execution_count": 14,
      "outputs": [
        {
          "output_type": "execute_result",
          "data": {
            "text/plain": [
              "<matplotlib.axes._subplots.AxesSubplot at 0x7f96a90d1da0>"
            ]
          },
          "metadata": {
            "tags": []
          },
          "execution_count": 14
        },
        {
          "output_type": "display_data",
          "data": {
            "image/png": "[encoded data removed]",
            "text/plain": [
              "<Figure size 432x288 with 1 Axes>"
            ]
          },
          "metadata": {
            "tags": [],
            "needs_background": "light"
          }
        }
      ]
    },
    {
      "cell_type": "markdown",
      "metadata": {
        "id": "6yDUpu4fqIUO"
      },
      "source": [
        "- All reviews are almost a single sentence"
      ]
    },
    {
      "cell_type": "markdown",
      "metadata": {
        "id": "NRFp48cTqPai"
      },
      "source": [
        "<b> 5.2 Character Count"
      ]
    },
    {
      "cell_type": "code",
      "metadata": {
        "id": "5Li9YgRIqOZK",
        "outputId": "80b5bff5-d755-496c-e840-f0db33f8c62b",
        "colab": {
          "base_uri": "https://localhost:8080/",
          "height": 293
        }
      },
      "source": [
        "before_processing.groupby('Label')['char_ct'].median().plot(kind = 'bar')"
      ],
      "execution_count": 15,
      "outputs": [
        {
          "output_type": "execute_result",
          "data": {
            "text/plain": [
              "<matplotlib.axes._subplots.AxesSubplot at 0x7f96a8cd8160>"
            ]
          },
          "metadata": {
            "tags": []
          },
          "execution_count": 15
        },
        {
          "output_type": "display_data",
          "data": {
            "image/png": "[encoded data removed]",
            "text/plain": [
              "<Figure size 432x288 with 1 Axes>"
            ]
          },
          "metadata": {
            "tags": [],
            "needs_background": "light"
          }
        }
      ]
    },
    {
      "cell_type": "markdown",
      "metadata": {
        "id": "x4KMwvAHqXX5"
      },
      "source": [
        "- Looks like weakly positive has the highest (median) character count. This may be due to the fact that people are expressive"
      ]
    },
    {
      "cell_type": "markdown",
      "metadata": {
        "id": "GWZ2uNLiqmln"
      },
      "source": [
        "<b> 5.3 Repeated Word Count"
      ]
    },
    {
      "cell_type": "code",
      "metadata": {
        "id": "Pr3tIRkRqsrB",
        "outputId": "0eb5c41b-6aa5-4c4d-b1cf-2a672485a3ff",
        "colab": {
          "base_uri": "https://localhost:8080/",
          "height": 293
        }
      },
      "source": [
        "before_processing.groupby('Label')['rep_wd_ct'].median().plot(kind = 'bar')"
      ],
      "execution_count": 16,
      "outputs": [
        {
          "output_type": "execute_result",
          "data": {
            "text/plain": [
              "<matplotlib.axes._subplots.AxesSubplot at 0x7f96a8cba8d0>"
            ]
          },
          "metadata": {
            "tags": []
          },
          "execution_count": 16
        },
        {
          "output_type": "display_data",
          "data": {
            "image/png": "[encoded data removed]",
            "text/plain": [
              "<Figure size 432x288 with 1 Axes>"
            ]
          },
          "metadata": {
            "tags": [],
            "needs_background": "light"
          }
        }
      ]
    },
    {
      "cell_type": "markdown",
      "metadata": {
        "id": "hK2xlLc7rEKv"
      },
      "source": [
        "- Words are not repeated much in the reviews"
      ]
    },
    {
      "cell_type": "markdown",
      "metadata": {
        "id": "dy1_yIT2q5jP"
      },
      "source": [
        "<b> 5.4 Words Not Present in NLTK Dictionary"
      ]
    },
    {
      "cell_type": "code",
      "metadata": {
        "id": "JLUaZtnoq-f6",
        "outputId": "180f2745-44ee-4c59-e750-4d0088cda6d1",
        "colab": {
          "base_uri": "https://localhost:8080/",
          "height": 293
        }
      },
      "source": [
        "before_processing.groupby('Label')['fancy_wd_ct'].median().plot(kind = 'bar')"
      ],
      "execution_count": 18,
      "outputs": [
        {
          "output_type": "execute_result",
          "data": {
            "text/plain": [
              "<matplotlib.axes._subplots.AxesSubplot at 0x7f96a8b24780>"
            ]
          },
          "metadata": {
            "tags": []
          },
          "execution_count": 18
        },
        {
          "output_type": "display_data",
          "data": {
            "image/png": "[encoded data removed]",
            "text/plain": [
              "<Figure size 432x288 with 1 Axes>"
            ]
          },
          "metadata": {
            "tags": [],
            "needs_background": "light"
          }
        }
      ]
    },
    {
      "cell_type": "markdown",
      "metadata": {
        "id": "r81fa4n3rauX"
      },
      "source": [
        "- Weakly positive class has more words which are not present in the NLTK dictionary"
      ]
    },
    {
      "cell_type": "markdown",
      "metadata": {
        "id": "3XszXP8ermVV"
      },
      "source": [
        "<b> 5.5 Noun Count"
      ]
    },
    {
      "cell_type": "code",
      "metadata": {
        "id": "XK1eOHN2rlqq",
        "outputId": "6b44bdd2-5be0-4df2-ebdc-f7805886b168",
        "colab": {
          "base_uri": "https://localhost:8080/",
          "height": 293
        }
      },
      "source": [
        "before_processing.groupby('Label')['noun_ct'].median().plot(kind = 'bar')"
      ],
      "execution_count": 19,
      "outputs": [
        {
          "output_type": "execute_result",
          "data": {
            "text/plain": [
              "<matplotlib.axes._subplots.AxesSubplot at 0x7f96a8a90470>"
            ]
          },
          "metadata": {
            "tags": []
          },
          "execution_count": 19
        },
        {
          "output_type": "display_data",
          "data": {
            "image/png": "[encoded data removed]",
            "text/plain": [
              "<Figure size 432x288 with 1 Axes>"
            ]
          },
          "metadata": {
            "tags": [],
            "needs_background": "light"
          }
        }
      ]
    },
    {
      "cell_type": "markdown",
      "metadata": {
        "id": "coyxZAB6uwaL"
      },
      "source": [
        "<b> 5.6 Predefined set of stopwords count"
      ]
    },
    {
      "cell_type": "code",
      "metadata": {
        "id": "QCMeGYnDu08e",
        "outputId": "29af4f0f-4e7a-4ef6-b315-2beea3787508",
        "colab": {
          "base_uri": "https://localhost:8080/",
          "height": 293
        }
      },
      "source": [
        "before_processing.groupby('Label')['stop_wd_ct'].median().plot(kind = 'bar')"
      ],
      "execution_count": 20,
      "outputs": [
        {
          "output_type": "execute_result",
          "data": {
            "text/plain": [
              "<matplotlib.axes._subplots.AxesSubplot at 0x7f96a8a75b70>"
            ]
          },
          "metadata": {
            "tags": []
          },
          "execution_count": 20
        },
        {
          "output_type": "display_data",
          "data": {
            "image/png": "[encoded data removed]",
            "text/plain": [
              "<Figure size 432x288 with 1 Axes>"
            ]
          },
          "metadata": {
            "tags": [],
            "needs_background": "light"
          }
        }
      ]
    },
    {
      "cell_type": "markdown",
      "metadata": {
        "id": "USv-sRQGu5Il"
      },
      "source": [
        "- This is not a good discriminator"
      ]
    },
    {
      "cell_type": "markdown",
      "metadata": {
        "id": "cO7kchhVvMqG"
      },
      "source": [
        "<b> 5.7 Punctuation Count"
      ]
    },
    {
      "cell_type": "code",
      "metadata": {
        "id": "mgbPsd5jvQW1",
        "outputId": "7370f02d-b355-4e82-f2b4-f3fc5efcc09e",
        "colab": {
          "base_uri": "https://localhost:8080/",
          "height": 293
        }
      },
      "source": [
        "before_processing.groupby('Label')['punct_ct'].median().plot(kind = 'bar')"
      ],
      "execution_count": 22,
      "outputs": [
        {
          "output_type": "execute_result",
          "data": {
            "text/plain": [
              "<matplotlib.axes._subplots.AxesSubplot at 0x7f96a89a2dd8>"
            ]
          },
          "metadata": {
            "tags": []
          },
          "execution_count": 22
        },
        {
          "output_type": "display_data",
          "data": {
            "image/png": "[encoded data removed]",
            "text/plain": [
              "<Figure size 432x288 with 1 Axes>"
            ]
          },
          "metadata": {
            "tags": [],
            "needs_background": "light"
          }
        }
      ]
    },
    {
      "cell_type": "markdown",
      "metadata": {
        "id": "DajxLn8xyaPs"
      },
      "source": [
        "# 1.4 Conclusion\n",
        "\n",
        "- NER can be a powerful technique for discrimination. For eg. All Chris Nolan movies are blockbusters and hence identifying names in the reviews might increase the discriminating power but unfortunately we could not identify any movie cast names\n"
      ]
    }
  ]
}